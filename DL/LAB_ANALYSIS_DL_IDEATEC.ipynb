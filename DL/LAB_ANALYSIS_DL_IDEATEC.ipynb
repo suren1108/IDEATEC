{
  "nbformat": 4,
  "nbformat_minor": 0,
  "metadata": {
    "colab": {
      "provenance": []
    },
    "kernelspec": {
      "name": "python3",
      "display_name": "Python 3"
    },
    "language_info": {
      "name": "python"
    }
  },
  "cells": [
    {
      "cell_type": "code",
      "execution_count": 21,
      "metadata": {
        "colab": {
          "base_uri": "https://localhost:8080/"
        },
        "id": "w1nHDlXTF-0-",
        "outputId": "7c3fa14b-199a-426f-83cd-af00c7769cc1"
      },
      "outputs": [
        {
          "output_type": "stream",
          "name": "stdout",
          "text": [
            "Requirement already satisfied: matplotlib in /usr/local/lib/python3.10/dist-packages (3.7.1)\n",
            "Requirement already satisfied: seaborn in /usr/local/lib/python3.10/dist-packages (0.12.2)\n",
            "Requirement already satisfied: pandas in /usr/local/lib/python3.10/dist-packages (1.5.3)\n",
            "Requirement already satisfied: contourpy>=1.0.1 in /usr/local/lib/python3.10/dist-packages (from matplotlib) (1.2.0)\n",
            "Requirement already satisfied: cycler>=0.10 in /usr/local/lib/python3.10/dist-packages (from matplotlib) (0.12.1)\n",
            "Requirement already satisfied: fonttools>=4.22.0 in /usr/local/lib/python3.10/dist-packages (from matplotlib) (4.46.0)\n",
            "Requirement already satisfied: kiwisolver>=1.0.1 in /usr/local/lib/python3.10/dist-packages (from matplotlib) (1.4.5)\n",
            "Requirement already satisfied: numpy>=1.20 in /usr/local/lib/python3.10/dist-packages (from matplotlib) (1.23.5)\n",
            "Requirement already satisfied: packaging>=20.0 in /usr/local/lib/python3.10/dist-packages (from matplotlib) (23.2)\n",
            "Requirement already satisfied: pillow>=6.2.0 in /usr/local/lib/python3.10/dist-packages (from matplotlib) (9.4.0)\n",
            "Requirement already satisfied: pyparsing>=2.3.1 in /usr/local/lib/python3.10/dist-packages (from matplotlib) (3.1.1)\n",
            "Requirement already satisfied: python-dateutil>=2.7 in /usr/local/lib/python3.10/dist-packages (from matplotlib) (2.8.2)\n",
            "Requirement already satisfied: pytz>=2020.1 in /usr/local/lib/python3.10/dist-packages (from pandas) (2023.3.post1)\n",
            "Requirement already satisfied: six>=1.5 in /usr/local/lib/python3.10/dist-packages (from python-dateutil>=2.7->matplotlib) (1.16.0)\n",
            "Requirement already satisfied: plotly in /usr/local/lib/python3.10/dist-packages (5.15.0)\n",
            "Requirement already satisfied: tenacity>=6.2.0 in /usr/local/lib/python3.10/dist-packages (from plotly) (8.2.3)\n",
            "Requirement already satisfied: packaging in /usr/local/lib/python3.10/dist-packages (from plotly) (23.2)\n"
          ]
        }
      ],
      "source": [
        "!pip install matplotlib seaborn pandas\n",
        "!pip install plotly"
      ]
    },
    {
      "cell_type": "code",
      "source": [
        "'''\n",
        "import pandas as pd\n",
        "import plotly.express as px\n",
        "import plotly.graph_objects as go\n",
        "from plotly.subplots import make_subplots\n",
        "\n",
        "# Load the data from the CSV file\n",
        "df = pd.read_csv('/content/drive/MyDrive/Ideatec DL/DL/Input/dl_yamuna_vihar_25mgd_lab_analysis.csv')\n",
        "\n",
        "# Set the date column as datetime type\n",
        "df['date'] = pd.to_datetime(df['date'])\n",
        "\n",
        "# Time Series Plot for TSS\n",
        "fig1 = px.line(df, x='date', y=['raw_sewage__tss', 'fst__tss'], labels={'variable': 'Stage', 'value': 'TSS value'},\n",
        "               title='TSS Trend Over Time')\n",
        "fig1.update_layout(height=600, width=1000)\n",
        "\n",
        "# Time Series Plot for BOD\n",
        "fig2 = px.line(df, x='date', y=['raw_sewage__bod', 'fst__bod'], labels={'variable': 'Stage', 'value': 'BOD value'},\n",
        "               title='BOD Trend Over Time')\n",
        "fig2.update_layout(height=600, width=800)\n",
        "\n",
        "# Box Plot for TSS across Stages\n",
        "fig3 = px.box(pd.melt(df[['raw_sewage__tss', 'pst_outlet__tss', 'fst__tss']]),\n",
        "              x='variable', y='value', labels={'variable': 'Stage', 'value': 'TSS Value'},\n",
        "              title='TSS values Across Stages')\n",
        "fig3.update_layout(height=600, width=1000)\n",
        "\n",
        "# Box Plot for BOD across Stages\n",
        "fig4 = px.box(pd.melt(df[['raw_sewage__bod', 'pst_outlet__bod', 'fst__bod']]),\n",
        "              x='variable', y='value', labels={'variable': 'Stage', 'value': 'BOD Value'},\n",
        "              title='BOD values Across Stages')\n",
        "fig4.update_layout(height=600, width=1000)\n",
        "\n",
        "# Dual-Axis Chart for TSS and BOD\n",
        "fig5 = make_subplots(specs=[[{'secondary_y': True}]])\n",
        "fig5.add_trace(go.Scatter(x=df['date'], y=df['fst__tss'], mode='lines', name='FST TSS', line=dict(color='blue')),\n",
        "               secondary_y=False)\n",
        "fig5.add_trace(go.Scatter(x=df['date'], y=df['fst__bod'], mode='lines', name='FST BOD', line=dict(color='red')),\n",
        "               secondary_y=True)\n",
        "fig5.update_layout(title='TSS and BOD at FST', height=600, width=1000)\n",
        "\n",
        "# Scatter Plot for Applied Dose vs. Flow\n",
        "fig6 = px.scatter(df, x='custom_dosing_data__applied_dose_outlet', y='custom_dosing_data__flow',\n",
        "                  labels={'custom_dosing_data__applied_dose_outlet': 'Applied Dose Outlet', 'custom_dosing_data__flow': 'Flow'},\n",
        "                  title='Applied Dose vs. Flow')\n",
        "fig6.update_layout(height=600, width=1000)\n",
        "\n",
        "# Show the plots\n",
        "fig1.show()\n",
        "fig2.show()\n",
        "fig3.show()\n",
        "fig4.show()\n",
        "fig5.show()\n",
        "fig6.show()\n",
        "'''\n",
        "import pandas as pd\n",
        "import plotly.graph_objects as go\n",
        "from plotly.subplots import make_subplots\n",
        "import plotly.offline as offline\n",
        "\n",
        "# Get input and output file names from the user\n",
        "input_file_path = input(\"Enter the path to the input CSV file: \")\n",
        "output_file_path = input(\"Enter the desired path for the output HTML file: \")\n",
        "figure_title = input(\"Enter the title for the output HTML file: \")\n",
        "\n",
        "# Load the data from the CSV file\n",
        "df = pd.read_csv(input_file_path)\n",
        "\n",
        "# Set the date column as datetime type\n",
        "df['date'] = pd.to_datetime(df['date'])\n",
        "\n",
        "# Time Series Plot for TSS\n",
        "fig1 = go.Figure()\n",
        "fig1.add_trace(go.Scatter(x=df['date'], y=df['raw_sewage__tss'], mode='lines', name='Raw Sewage TSS', line=dict(color='blue')))\n",
        "fig1.add_trace(go.Scatter(x=df['date'], y=df['fst__tss'], mode='lines', name='FST TSS', line=dict(color='red')))\n",
        "fig1.update_layout(height=600, width=1000, title='TSS Trend Over Time', xaxis_title='Date', yaxis_title='TSS value')\n",
        "\n",
        "# Time Series Plot for BOD\n",
        "fig2 = go.Figure()\n",
        "fig2.add_trace(go.Scatter(x=df['date'], y=df['raw_sewage__bod'], mode='lines', name='Raw Sewage BOD', line=dict(color='blue')))\n",
        "fig2.add_trace(go.Scatter(x=df['date'], y=df['fst__bod'], mode='lines', name='FST BOD', line=dict(color='red')))\n",
        "fig2.update_layout(height=600, width=800, title='BOD Trend Over Time', xaxis_title='Date', yaxis_title='BOD value')\n",
        "\n",
        "# Box Plot for TSS across Stages\n",
        "fig3 = px.box(pd.melt(df[['raw_sewage__tss', 'pst_outlet__tss', 'fst__tss']]),\n",
        "              x='variable', y='value', labels={'variable': 'Stage', 'value': 'TSS Value'},\n",
        "              title='TSS values Across Stages')\n",
        "fig3.update_layout(height=600, width=1000)\n",
        "\n",
        "# Box Plot for BOD across Stages\n",
        "fig4 = px.box(pd.melt(df[['raw_sewage__bod', 'pst_outlet__bod', 'fst__bod']]),\n",
        "              x='variable', y='value', labels={'variable': 'Stage', 'value': 'BOD Value'},\n",
        "              title='BOD values Across Stages')\n",
        "fig4.update_layout(height=600, width=1000)\n",
        "\n",
        "# Dual-Axis Chart for TSS and BOD\n",
        "fig5 = make_subplots(specs=[[{'secondary_y': True}]])\n",
        "fig5.add_trace(go.Scatter(x=df['date'], y=df['fst__tss'], mode='lines', name='FST TSS', line=dict(color='blue')))\n",
        "fig5.add_trace(go.Scatter(x=df['date'], y=df['fst__bod'], mode='lines', name='FST BOD', line=dict(color='red')), secondary_y=True)\n",
        "fig5.update_layout(title='TSS and BOD at FST', height=600, width=1000, xaxis_title='Date')\n",
        "\n",
        "# Scatter Plot for Applied Dose vs. Flow\n",
        "fig6 = go.Figure()\n",
        "fig6.add_trace(go.Scatter(x=df['custom_dosing_data__applied_dose_outlet'], y=df['custom_dosing_data__flow'],\n",
        "                          mode='markers', marker=dict(color='blue'), name='Applied Dose vs. Flow'))\n",
        "fig6.update_layout(height=600, width=1000, title='Applied Dose vs. Flow',\n",
        "                   xaxis_title='Applied Dose Outlet', yaxis_title='Flow')\n",
        "\n",
        "# Combine all figures into one subplot\n",
        "combined_fig = make_subplots(rows=3, cols=2,\n",
        "                             subplot_titles=['TSS Trend Over Time', 'BOD Trend Over Time',\n",
        "                                             'TSS values Across Stages', 'BOD values Across Stages',\n",
        "                                             'TSS and BOD at FST', 'Applied Dose vs. Flow'])\n",
        "\n",
        "combined_fig.add_trace(fig1['data'][0], row=1, col=1)\n",
        "combined_fig.add_trace(fig1['data'][1], row=1, col=1)\n",
        "combined_fig.add_trace(fig2['data'][0], row=1, col=2)\n",
        "combined_fig.add_trace(fig2['data'][1], row=1, col=2)\n",
        "combined_fig.add_trace(fig3['data'][0], row=2, col=1)\n",
        "combined_fig.add_trace(fig4['data'][0], row=2, col=2)\n",
        "combined_fig.add_trace(fig5['data'][0], row=3, col=1)\n",
        "combined_fig.add_trace(fig5['data'][1], row=3, col=1)\n",
        "combined_fig.add_trace(fig6['data'][0], row=3, col=2)\n",
        "\n",
        "combined_fig.update_layout(height=None, width=None, title=dict(text=figure_title, x=0.45, font=dict(size=20, color='black', family='Arial')))\n",
        "\n",
        "# Save the combined figure to an HTML file\n",
        "offline.plot(combined_fig, filename=output_file_path, auto_open=False, include_plotlyjs='cdn')\n",
        "\n"
      ],
      "metadata": {
        "colab": {
          "base_uri": "https://localhost:8080/",
          "height": 87
        },
        "id": "G8rwdmhrJSXW",
        "outputId": "00bc8472-210b-4c33-901a-86edb5177c4c"
      },
      "execution_count": 33,
      "outputs": [
        {
          "name": "stdout",
          "output_type": "stream",
          "text": [
            "Enter the path to the input CSV file: /content/drive/MyDrive/Ideatec DL/DL/Input/16mgd_first_10_days_data.csv\n",
            "Enter the desired path for the output HTML file: /content/drive/MyDrive/Ideatec DL/DL/Output/YV_16MGD_First10days_Analysis.html\n",
            "Enter the title for the output HTML file: Yamuna Vihar 16MGD(FIRST 10 DAYS)\n"
          ]
        },
        {
          "output_type": "execute_result",
          "data": {
            "text/plain": [
              "'/content/drive/MyDrive/Ideatec DL/DL/Output/YV_16MGD_First10days_Analysis.html'"
            ],
            "application/vnd.google.colaboratory.intrinsic+json": {
              "type": "string"
            }
          },
          "metadata": {},
          "execution_count": 33
        }
      ]
    },
    {
      "cell_type": "code",
      "source": [],
      "metadata": {
        "colab": {
          "base_uri": "https://localhost:8080/"
        },
        "id": "y8DxDX-6OmhV",
        "outputId": "77efda80-ff3f-4938-ac40-6bf852ff2c9a"
      },
      "execution_count": 23,
      "outputs": [
        {
          "output_type": "stream",
          "name": "stdout",
          "text": [
            "Requirement already satisfied: dash in /usr/local/lib/python3.10/dist-packages (2.14.2)\n",
            "Requirement already satisfied: pandas in /usr/local/lib/python3.10/dist-packages (1.5.3)\n",
            "Requirement already satisfied: plotly in /usr/local/lib/python3.10/dist-packages (5.15.0)\n",
            "Requirement already satisfied: Flask<3.1,>=1.0.4 in /usr/local/lib/python3.10/dist-packages (from dash) (2.2.5)\n",
            "Requirement already satisfied: Werkzeug<3.1 in /usr/local/lib/python3.10/dist-packages (from dash) (3.0.1)\n",
            "Requirement already satisfied: dash-html-components==2.0.0 in /usr/local/lib/python3.10/dist-packages (from dash) (2.0.0)\n",
            "Requirement already satisfied: dash-core-components==2.0.0 in /usr/local/lib/python3.10/dist-packages (from dash) (2.0.0)\n",
            "Requirement already satisfied: dash-table==5.0.0 in /usr/local/lib/python3.10/dist-packages (from dash) (5.0.0)\n",
            "Requirement already satisfied: typing-extensions>=4.1.1 in /usr/local/lib/python3.10/dist-packages (from dash) (4.5.0)\n",
            "Requirement already satisfied: requests in /usr/local/lib/python3.10/dist-packages (from dash) (2.31.0)\n",
            "Requirement already satisfied: retrying in /usr/local/lib/python3.10/dist-packages (from dash) (1.3.4)\n",
            "Requirement already satisfied: ansi2html in /usr/local/lib/python3.10/dist-packages (from dash) (1.9.1)\n",
            "Requirement already satisfied: nest-asyncio in /usr/local/lib/python3.10/dist-packages (from dash) (1.5.8)\n",
            "Requirement already satisfied: setuptools in /usr/local/lib/python3.10/dist-packages (from dash) (67.7.2)\n",
            "Requirement already satisfied: importlib-metadata in /usr/local/lib/python3.10/dist-packages (from dash) (7.0.0)\n",
            "Requirement already satisfied: python-dateutil>=2.8.1 in /usr/local/lib/python3.10/dist-packages (from pandas) (2.8.2)\n",
            "Requirement already satisfied: pytz>=2020.1 in /usr/local/lib/python3.10/dist-packages (from pandas) (2023.3.post1)\n",
            "Requirement already satisfied: numpy>=1.21.0 in /usr/local/lib/python3.10/dist-packages (from pandas) (1.23.5)\n",
            "Requirement already satisfied: tenacity>=6.2.0 in /usr/local/lib/python3.10/dist-packages (from plotly) (8.2.3)\n",
            "Requirement already satisfied: packaging in /usr/local/lib/python3.10/dist-packages (from plotly) (23.2)\n",
            "Requirement already satisfied: Jinja2>=3.0 in /usr/local/lib/python3.10/dist-packages (from Flask<3.1,>=1.0.4->dash) (3.1.2)\n",
            "Requirement already satisfied: itsdangerous>=2.0 in /usr/local/lib/python3.10/dist-packages (from Flask<3.1,>=1.0.4->dash) (2.1.2)\n",
            "Requirement already satisfied: click>=8.0 in /usr/local/lib/python3.10/dist-packages (from Flask<3.1,>=1.0.4->dash) (8.1.7)\n",
            "Requirement already satisfied: six>=1.5 in /usr/local/lib/python3.10/dist-packages (from python-dateutil>=2.8.1->pandas) (1.16.0)\n",
            "Requirement already satisfied: MarkupSafe>=2.1.1 in /usr/local/lib/python3.10/dist-packages (from Werkzeug<3.1->dash) (2.1.3)\n",
            "Requirement already satisfied: zipp>=0.5 in /usr/local/lib/python3.10/dist-packages (from importlib-metadata->dash) (3.17.0)\n",
            "Requirement already satisfied: charset-normalizer<4,>=2 in /usr/local/lib/python3.10/dist-packages (from requests->dash) (3.3.2)\n",
            "Requirement already satisfied: idna<4,>=2.5 in /usr/local/lib/python3.10/dist-packages (from requests->dash) (3.6)\n",
            "Requirement already satisfied: urllib3<3,>=1.21.1 in /usr/local/lib/python3.10/dist-packages (from requests->dash) (2.0.7)\n",
            "Requirement already satisfied: certifi>=2017.4.17 in /usr/local/lib/python3.10/dist-packages (from requests->dash) (2023.11.17)\n"
          ]
        }
      ]
    },
    {
      "cell_type": "code",
      "source": [
        "'''\n",
        "import pandas as pd\n",
        "import dash\n",
        "import dash_core_components as dcc\n",
        "import dash_html_components as html\n",
        "from dash.dependencies import Input, Output\n",
        "import plotly.express as px\n",
        "\n",
        "# Load the data from the CSV file\n",
        "df = pd.read_csv('/content/drive/MyDrive/Ideatec DL/DL/Input/dl_yamuna_vihar_25mgd_lab_analysis.csv')\n",
        "\n",
        "# Set the date column as datetime type\n",
        "df['date'] = pd.to_datetime(df['date'])\n",
        "\n",
        "# Initialize the Dash app\n",
        "app = dash.Dash(__name__)\n",
        "\n",
        "# Define layout for the dashboard\n",
        "app.layout = html.Div([\n",
        "    # Time Series Plot for TSS\n",
        "    dcc.Graph(\n",
        "        id='time-series-tss',\n",
        "        figure=px.line(df, x='date', y=['raw_sewage__tss', 'fst__tss'],\n",
        "                       labels={'value': 'TSS value', 'variable': 'Stage'},\n",
        "                       title='TSS Trend Over Time',\n",
        "                       template='plotly_dark')\n",
        "    ),\n",
        "    # Time Series Plot for BOD\n",
        "    dcc.Graph(\n",
        "        id='time-series-bod',\n",
        "        figure=px.line(df, x='date', y=['raw_sewage__bod', 'fst__bod'],\n",
        "                       labels={'value': 'BOD value', 'variable': 'Stage'},\n",
        "                       title='BOD Trend Over Time',\n",
        "                       template='plotly_dark')\n",
        "    ),\n",
        "    # Scatter Plot for Applied Dose vs. Flow\n",
        "    dcc.Graph(\n",
        "        id='scatter-plot-dose-flow',\n",
        "        figure=px.scatter(df, x='custom_dosing_data__applied_dose_outlet', y='custom_dosing_data__flow',\n",
        "                          labels={'custom_dosing_data__applied_dose_outlet': 'Applied Dose Outlet', 'custom_dosing_data__flow': 'Flow'},\n",
        "                          title='Applied Dose vs. Flow',\n",
        "                          template='plotly_dark')\n",
        "    ),\n",
        "    # Box Plot for TSS across Stages\n",
        "    dcc.Graph(\n",
        "        id='box-plot-tss-stages',\n",
        "        figure=px.box(pd.melt(df[['raw_sewage__tss', 'pst_outlet__tss', 'fst__tss']]),\n",
        "                      x='variable', y='value', labels={'value': 'TSS Value', 'variable': 'Stage'},\n",
        "                      title='Distribution of TSS Across Stages',\n",
        "                      template='plotly_dark')\n",
        "    ),\n",
        "    # Box Plot for BOD across Stages\n",
        "    dcc.Graph(\n",
        "        id='box-plot-bod-stages',\n",
        "        figure=px.box(pd.melt(df[['raw_sewage__bod', 'pst_outlet__bod', 'fst__bod']]),\n",
        "                      x='variable', y='value', labels={'value': 'BOD Value', 'variable': 'Stage'},\n",
        "                      title='Distribution of BOD Across Stages',\n",
        "                      template='plotly_dark')\n",
        "    ),\n",
        "    # Dual-Axis Chart for TSS and BOD\n",
        "    dcc.Graph(\n",
        "        id='dual-axis-chart',\n",
        "        figure=px.line(df, x='date', y=['fst__tss', 'fst__bod'],\n",
        "                       labels={'value': 'Value', 'variable': 'Stage'},\n",
        "                       title='Dual-Axis Chart for TSS and BOD',\n",
        "                       template='plotly_dark')\n",
        "    )\n",
        "])\n",
        "\n",
        "# Run the app\n",
        "if __name__ == '__main__':\n",
        "    app.run_server(debug=True, host='0.0.0.0', port=8051)\n",
        "'''"
      ],
      "metadata": {
        "colab": {
          "base_uri": "https://localhost:8080/",
          "height": 122
        },
        "id": "QCJn7ICCOvyX",
        "outputId": "26e30e2e-945e-4efb-8beb-08e290c346a9"
      },
      "execution_count": 24,
      "outputs": [
        {
          "output_type": "execute_result",
          "data": {
            "text/plain": [
              "\"\\nimport pandas as pd\\nimport dash\\nimport dash_core_components as dcc\\nimport dash_html_components as html\\nfrom dash.dependencies import Input, Output\\nimport plotly.express as px\\n\\n# Load the data from the CSV file\\ndf = pd.read_csv('/content/drive/MyDrive/Ideatec DL/DL/Input/dl_yamuna_vihar_25mgd_lab_analysis.csv')\\n\\n# Set the date column as datetime type\\ndf['date'] = pd.to_datetime(df['date'])\\n\\n# Initialize the Dash app\\napp = dash.Dash(__name__)\\n\\n# Define layout for the dashboard\\napp.layout = html.Div([\\n    # Time Series Plot for TSS\\n    dcc.Graph(\\n        id='time-series-tss',\\n        figure=px.line(df, x='date', y=['raw_sewage__tss', 'fst__tss'],\\n                       labels={'value': 'TSS value', 'variable': 'Stage'},\\n                       title='TSS Trend Over Time',\\n                       template='plotly_dark')\\n    ),\\n    # Time Series Plot for BOD\\n    dcc.Graph(\\n        id='time-series-bod',\\n        figure=px.line(df, x='date', y=['raw_sewage__bod', 'fst__bod'],\\n                       labels={'value': 'BOD value', 'variable': 'Stage'},\\n                       title='BOD Trend Over Time',\\n                       template='plotly_dark')\\n    ),\\n    # Scatter Plot for Applied Dose vs. Flow\\n    dcc.Graph(\\n        id='scatter-plot-dose-flow',\\n        figure=px.scatter(df, x='custom_dosing_data__applied_dose_outlet', y='custom_dosing_data__flow',\\n                          labels={'custom_dosing_data__applied_dose_outlet': 'Applied Dose Outlet', 'custom_dosing_data__flow': 'Flow'},\\n                          title='Applied Dose vs. Flow',\\n                          template='plotly_dark')\\n    ),\\n    # Box Plot for TSS across Stages\\n    dcc.Graph(\\n        id='box-plot-tss-stages',\\n        figure=px.box(pd.melt(df[['raw_sewage__tss', 'pst_outlet__tss', 'fst__tss']]),\\n                      x='variable', y='value', labels={'value': 'TSS Value', 'variable': 'Stage'},\\n                      title='Distribution of TSS Across Stages',\\n                      template='plotly_dark')\\n    ),\\n    # Box Plot for BOD across Stages\\n    dcc.Graph(\\n        id='box-plot-bod-stages',\\n        figure=px.box(pd.melt(df[['raw_sewage__bod', 'pst_outlet__bod', 'fst__bod']]),\\n                      x='variable', y='value', labels={'value': 'BOD Value', 'variable': 'Stage'},\\n                      title='Distribution of BOD Across Stages',\\n                      template='plotly_dark')\\n    ),\\n    # Dual-Axis Chart for TSS and BOD\\n    dcc.Graph(\\n        id='dual-axis-chart',\\n        figure=px.line(df, x='date', y=['fst__tss', 'fst__bod'],\\n                       labels={'value': 'Value', 'variable': 'Stage'},\\n                       title='Dual-Axis Chart for TSS and BOD',\\n                       template='plotly_dark')\\n    )\\n])\\n\\n# Run the app\\nif __name__ == '__main__':\\n    app.run_server(debug=True, host='0.0.0.0', port=8051)\\n\""
            ],
            "application/vnd.google.colaboratory.intrinsic+json": {
              "type": "string"
            }
          },
          "metadata": {},
          "execution_count": 24
        }
      ]
    },
    {
      "cell_type": "code",
      "source": [],
      "metadata": {
        "colab": {
          "base_uri": "https://localhost:8080/",
          "height": 880
        },
        "id": "eBAS66YTiq3W",
        "outputId": "2d789ad6-cf93-4469-d313-2158fd2244f3"
      },
      "execution_count": 25,
      "outputs": [
        {
          "output_type": "stream",
          "name": "stderr",
          "text": [
            "<ipython-input-25-0121c765d9cf>:3: UserWarning:\n",
            "\n",
            "\n",
            "The dash_core_components package is deprecated. Please replace\n",
            "`import dash_core_components as dcc` with `from dash import dcc`\n",
            "\n",
            "<ipython-input-25-0121c765d9cf>:4: UserWarning:\n",
            "\n",
            "\n",
            "The dash_html_components package is deprecated. Please replace\n",
            "`import dash_html_components as html` with `from dash import html`\n",
            "\n"
          ]
        },
        {
          "output_type": "display_data",
          "data": {
            "text/plain": [
              "<IPython.core.display.Javascript object>"
            ],
            "application/javascript": [
              "(async (port, path, width, height, cache, element) => {\n",
              "    if (!google.colab.kernel.accessAllowed && !cache) {\n",
              "      return;\n",
              "    }\n",
              "    element.appendChild(document.createTextNode(''));\n",
              "    const url = await google.colab.kernel.proxyPort(port, {cache});\n",
              "    const iframe = document.createElement('iframe');\n",
              "    iframe.src = new URL(path, url).toString();\n",
              "    iframe.height = height;\n",
              "    iframe.width = width;\n",
              "    iframe.style.border = 0;\n",
              "    iframe.allow = [\n",
              "        'accelerometer',\n",
              "        'autoplay',\n",
              "        'camera',\n",
              "        'clipboard-read',\n",
              "        'clipboard-write',\n",
              "        'gyroscope',\n",
              "        'magnetometer',\n",
              "        'microphone',\n",
              "        'serial',\n",
              "        'usb',\n",
              "        'xr-spatial-tracking',\n",
              "    ].join('; ');\n",
              "    element.appendChild(iframe);\n",
              "  })(8051, \"/\", \"100%\", 650, false, window.element)"
            ]
          },
          "metadata": {}
        }
      ]
    }
  ]
}